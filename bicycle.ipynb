{
 "cells": [
  {
   "cell_type": "code",
   "execution_count": 1,
   "metadata": {},
   "outputs": [],
   "source": [
    "import pandas as pd\n",
    "\n",
    "station_ids = [\n",
    "    3500, 3501, 3502, 3503, 3504, 3505, 3506, 3507, 3508, 3509, 3510, 3516, 3517, 3518, 3520, 3521, 3523, 3528, 3529, 3533, 3534, 3536, 3537, 3542,\n",
    "    500, 501, 502, 505, 515, 516, 539, 540, 542, 543, 544, 546, 548, 549, 551, 552, 553, 555, 571, 573, 574, 575, 576, 577, 584, 588, 590, 591, 592, 593,\n",
    "    3543, 3563, 3566, 3569, 3570, 3571, 3573, 3575, 3579, 3581, 3582, 3586, 3587, 3588,\n",
    "    3853, 3860, 3863, 3864, 3865, 3868, 3873, 3878, 3879, 3881, 3880, 3882, 3886, 3890, 3894, 3898, 3899, 3900\n",
    "]"
   ]
  }
 ],
 "metadata": {
  "kernelspec": {
   "display_name": "base",
   "language": "python",
   "name": "python3"
  },
  "language_info": {
   "codemirror_mode": {
    "name": "ipython",
    "version": 3
   },
   "file_extension": ".py",
   "mimetype": "text/x-python",
   "name": "python",
   "nbconvert_exporter": "python",
   "pygments_lexer": "ipython3",
   "version": "3.11.5"
  }
 },
 "nbformat": 4,
 "nbformat_minor": 2
}
